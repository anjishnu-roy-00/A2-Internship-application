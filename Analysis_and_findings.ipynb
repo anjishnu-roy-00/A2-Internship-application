{
 "cells": [
  {
   "cell_type": "code",
   "execution_count": 71,
   "metadata": {},
   "outputs": [],
   "source": [
    "import pandas as pd\n",
    "import seaborn as sns\n",
    "import matplotlib.pyplot as plt"
   ]
  },
  {
   "cell_type": "code",
   "execution_count": 55,
   "metadata": {},
   "outputs": [
    {
     "data": {
      "text/html": [
       "<div>\n",
       "<style scoped>\n",
       "    .dataframe tbody tr th:only-of-type {\n",
       "        vertical-align: middle;\n",
       "    }\n",
       "\n",
       "    .dataframe tbody tr th {\n",
       "        vertical-align: top;\n",
       "    }\n",
       "\n",
       "    .dataframe thead th {\n",
       "        text-align: right;\n",
       "    }\n",
       "</style>\n",
       "<table border=\"1\" class=\"dataframe\">\n",
       "  <thead>\n",
       "    <tr style=\"text-align: right;\">\n",
       "      <th></th>\n",
       "      <th>Name</th>\n",
       "      <th>Average Rating</th>\n",
       "      <th>Rating Count</th>\n",
       "      <th>Currency</th>\n",
       "      <th>Price</th>\n",
       "      <th>FBN</th>\n",
       "      <th>URL</th>\n",
       "      <th>Seller</th>\n",
       "    </tr>\n",
       "  </thead>\n",
       "  <tbody>\n",
       "    <tr>\n",
       "      <th>0</th>\n",
       "      <td>BODY SCULPTURE Yoga Mat 17mm</td>\n",
       "      <td>5.0</td>\n",
       "      <td>1.0</td>\n",
       "      <td>EGP</td>\n",
       "      <td>799.00</td>\n",
       "      <td>Express</td>\n",
       "      <td>https://www.noon.com/egypt-en/yoga-mat-17mm/N5...</td>\n",
       "      <td>noon</td>\n",
       "    </tr>\n",
       "    <tr>\n",
       "      <th>1</th>\n",
       "      <td>Athlete Home Exercise Mat</td>\n",
       "      <td>4.0</td>\n",
       "      <td>1.0</td>\n",
       "      <td>EGP</td>\n",
       "      <td>280.00</td>\n",
       "      <td>Express</td>\n",
       "      <td>https://www.noon.com/egypt-en/exercise-mat/ZEB...</td>\n",
       "      <td>Athlete Home</td>\n",
       "    </tr>\n",
       "    <tr>\n",
       "      <th>2</th>\n",
       "      <td>Spurt 18D-141 Yoga Roller Pink 30cm</td>\n",
       "      <td>5.0</td>\n",
       "      <td>1.0</td>\n",
       "      <td>EGP</td>\n",
       "      <td>183.00</td>\n",
       "      <td>Express</td>\n",
       "      <td>https://www.noon.com/egypt-en/18d-141-yoga-rol...</td>\n",
       "      <td>noon</td>\n",
       "    </tr>\n",
       "    <tr>\n",
       "      <th>3</th>\n",
       "      <td>Athlete Home Power Pull High End Mat</td>\n",
       "      <td>NaN</td>\n",
       "      <td>NaN</td>\n",
       "      <td>EGP</td>\n",
       "      <td>360.00</td>\n",
       "      <td>Express</td>\n",
       "      <td>https://www.noon.com/egypt-en/power-pull-high-...</td>\n",
       "      <td>Athlete Home</td>\n",
       "    </tr>\n",
       "    <tr>\n",
       "      <th>4</th>\n",
       "      <td>Athlete Home Yoga Ball 2021 65cm</td>\n",
       "      <td>NaN</td>\n",
       "      <td>NaN</td>\n",
       "      <td>EGP</td>\n",
       "      <td>159.00</td>\n",
       "      <td>Express</td>\n",
       "      <td>https://www.noon.com/egypt-en/yoga-ball-2021-6...</td>\n",
       "      <td>Athlete Home</td>\n",
       "    </tr>\n",
       "    <tr>\n",
       "      <th>...</th>\n",
       "      <td>...</td>\n",
       "      <td>...</td>\n",
       "      <td>...</td>\n",
       "      <td>...</td>\n",
       "      <td>...</td>\n",
       "      <td>...</td>\n",
       "      <td>...</td>\n",
       "      <td>...</td>\n",
       "    </tr>\n",
       "    <tr>\n",
       "      <th>1245</th>\n",
       "      <td>Generic Anti Burst Yoga Ball Fitness Gym Exerc...</td>\n",
       "      <td>NaN</td>\n",
       "      <td>NaN</td>\n",
       "      <td>EGP</td>\n",
       "      <td>329.35</td>\n",
       "      <td>Market</td>\n",
       "      <td>https://www.noon.com/egypt-en/anti-burst-yoga-...</td>\n",
       "      <td>Souqegypt</td>\n",
       "    </tr>\n",
       "    <tr>\n",
       "      <th>1246</th>\n",
       "      <td>Generic Exercise Fitness Aerobic Ball For Gym ...</td>\n",
       "      <td>NaN</td>\n",
       "      <td>NaN</td>\n",
       "      <td>EGP</td>\n",
       "      <td>304.35</td>\n",
       "      <td>Market</td>\n",
       "      <td>https://www.noon.com/egypt-en/exercise-fitness...</td>\n",
       "      <td>Souqegypt</td>\n",
       "    </tr>\n",
       "    <tr>\n",
       "      <th>1247</th>\n",
       "      <td>Generic New Swiss Exercise Fitness Aerobic Bal...</td>\n",
       "      <td>NaN</td>\n",
       "      <td>NaN</td>\n",
       "      <td>EGP</td>\n",
       "      <td>345.00</td>\n",
       "      <td>Market</td>\n",
       "      <td>https://www.noon.com/egypt-en/new-swiss-exerci...</td>\n",
       "      <td>Souqegypt</td>\n",
       "    </tr>\n",
       "    <tr>\n",
       "      <th>1248</th>\n",
       "      <td>Generic Sports Gym Ball 55cm</td>\n",
       "      <td>NaN</td>\n",
       "      <td>NaN</td>\n",
       "      <td>EGP</td>\n",
       "      <td>342.50</td>\n",
       "      <td>Market</td>\n",
       "      <td>https://www.noon.com/egypt-en/sports-gym-ball-...</td>\n",
       "      <td>Souqegypt</td>\n",
       "    </tr>\n",
       "    <tr>\n",
       "      <th>1249</th>\n",
       "      <td>Generic Exercise Gym Yoga Swiss Ball Gym Fitne...</td>\n",
       "      <td>NaN</td>\n",
       "      <td>NaN</td>\n",
       "      <td>EGP</td>\n",
       "      <td>346.25</td>\n",
       "      <td>Market</td>\n",
       "      <td>https://www.noon.com/egypt-en/exercise-gym-yog...</td>\n",
       "      <td>Souqegypt</td>\n",
       "    </tr>\n",
       "  </tbody>\n",
       "</table>\n",
       "<p>3210 rows × 8 columns</p>\n",
       "</div>"
      ],
      "text/plain": [
       "                                                   Name  Average Rating  \\\n",
       "0                          BODY SCULPTURE Yoga Mat 17mm             5.0   \n",
       "1                             Athlete Home Exercise Mat             4.0   \n",
       "2                   Spurt 18D-141 Yoga Roller Pink 30cm             5.0   \n",
       "3                  Athlete Home Power Pull High End Mat             NaN   \n",
       "4                      Athlete Home Yoga Ball 2021 65cm             NaN   \n",
       "...                                                 ...             ...   \n",
       "1245  Generic Anti Burst Yoga Ball Fitness Gym Exerc...             NaN   \n",
       "1246  Generic Exercise Fitness Aerobic Ball For Gym ...             NaN   \n",
       "1247  Generic New Swiss Exercise Fitness Aerobic Bal...             NaN   \n",
       "1248                       Generic Sports Gym Ball 55cm             NaN   \n",
       "1249  Generic Exercise Gym Yoga Swiss Ball Gym Fitne...             NaN   \n",
       "\n",
       "      Rating Count Currency   Price      FBN  \\\n",
       "0              1.0      EGP  799.00  Express   \n",
       "1              1.0      EGP  280.00  Express   \n",
       "2              1.0      EGP  183.00  Express   \n",
       "3              NaN      EGP  360.00  Express   \n",
       "4              NaN      EGP  159.00  Express   \n",
       "...            ...      ...     ...      ...   \n",
       "1245           NaN      EGP  329.35   Market   \n",
       "1246           NaN      EGP  304.35   Market   \n",
       "1247           NaN      EGP  345.00   Market   \n",
       "1248           NaN      EGP  342.50   Market   \n",
       "1249           NaN      EGP  346.25   Market   \n",
       "\n",
       "                                                    URL        Seller  \n",
       "0     https://www.noon.com/egypt-en/yoga-mat-17mm/N5...          noon  \n",
       "1     https://www.noon.com/egypt-en/exercise-mat/ZEB...  Athlete Home  \n",
       "2     https://www.noon.com/egypt-en/18d-141-yoga-rol...          noon  \n",
       "3     https://www.noon.com/egypt-en/power-pull-high-...  Athlete Home  \n",
       "4     https://www.noon.com/egypt-en/yoga-ball-2021-6...  Athlete Home  \n",
       "...                                                 ...           ...  \n",
       "1245  https://www.noon.com/egypt-en/anti-burst-yoga-...     Souqegypt  \n",
       "1246  https://www.noon.com/egypt-en/exercise-fitness...     Souqegypt  \n",
       "1247  https://www.noon.com/egypt-en/new-swiss-exerci...     Souqegypt  \n",
       "1248  https://www.noon.com/egypt-en/sports-gym-ball-...     Souqegypt  \n",
       "1249  https://www.noon.com/egypt-en/exercise-gym-yog...     Souqegypt  \n",
       "\n",
       "[3210 rows x 8 columns]"
      ]
     },
     "execution_count": 55,
     "metadata": {},
     "output_type": "execute_result"
    }
   ],
   "source": [
    "df = pd.read_csv('./final.csv',index_col=0)\n",
    "df"
   ]
  },
  {
   "cell_type": "markdown",
   "metadata": {},
   "source": [
    "Checking for duplicates"
   ]
  },
  {
   "cell_type": "code",
   "execution_count": 56,
   "metadata": {},
   "outputs": [
    {
     "data": {
      "text/plain": [
       "711"
      ]
     },
     "execution_count": 56,
     "metadata": {},
     "output_type": "execute_result"
    }
   ],
   "source": [
    "df.duplicated().sum()"
   ]
  },
  {
   "cell_type": "markdown",
   "metadata": {},
   "source": [
    "Removing duplicates"
   ]
  },
  {
   "cell_type": "code",
   "execution_count": 57,
   "metadata": {},
   "outputs": [],
   "source": [
    "df = df.drop_duplicates()"
   ]
  },
  {
   "cell_type": "code",
   "execution_count": 58,
   "metadata": {},
   "outputs": [
    {
     "data": {
      "text/plain": [
       "(2499, 8)"
      ]
     },
     "execution_count": 58,
     "metadata": {},
     "output_type": "execute_result"
    }
   ],
   "source": [
    "df.shape"
   ]
  },
  {
   "cell_type": "markdown",
   "metadata": {},
   "source": [
    "Adding column for brand"
   ]
  },
  {
   "cell_type": "markdown",
   "metadata": {},
   "source": [
    "Brand names were scrapped previously"
   ]
  },
  {
   "cell_type": "code",
   "execution_count": 59,
   "metadata": {},
   "outputs": [],
   "source": [
    "df1 = df.copy()"
   ]
  },
  {
   "cell_type": "code",
   "execution_count": 60,
   "metadata": {},
   "outputs": [],
   "source": [
    "brands = ['BODY SCULPTURE',\n",
    " 'TA SPORT',\n",
    " 'Generic',\n",
    " 'Athlete Home',\n",
    " 'Spurt',\n",
    " 'Emfil',\n",
    " 'SportQ',\n",
    " 'UFIT']"
   ]
  },
  {
   "cell_type": "code",
   "execution_count": 61,
   "metadata": {},
   "outputs": [],
   "source": [
    "def stat(df):\n",
    "    if brands[0] in df['Name']:\n",
    "        return brands[0]\n",
    "    if brands[1] in df['Name']:\n",
    "        return brands[1]\n",
    "    if brands[2] in df['Name']:\n",
    "        return brands[2]\n",
    "    if brands[3] in df['Name']:\n",
    "        return brands[3]\n",
    "    if brands[4] in df['Name']:\n",
    "        return brands[4]\n",
    "    if brands[5] in df['Name']:\n",
    "        return brands[5]\n",
    "    if brands[6] in df['Name']:\n",
    "        return brands[6]\n",
    "    if brands[7] in df['Name']:\n",
    "        return brands[7]\n",
    "    else:\n",
    "        return 'Generic'\n"
   ]
  },
  {
   "cell_type": "code",
   "execution_count": 62,
   "metadata": {},
   "outputs": [
    {
     "name": "stdout",
     "output_type": "stream",
     "text": [
      "0      BODY SCULPTURE\n",
      "1        Athlete Home\n",
      "2               Spurt\n",
      "3        Athlete Home\n",
      "4        Athlete Home\n",
      "            ...      \n",
      "545           Generic\n",
      "546           Generic\n",
      "547           Generic\n",
      "548           Generic\n",
      "549           Generic\n",
      "Name: Brand Name, Length: 2499, dtype: object\n"
     ]
    }
   ],
   "source": [
    "df1['Brand Name'] = df.apply (lambda row: stat(row), axis=1)\n",
    "print(df1['Brand Name'])"
   ]
  },
  {
   "cell_type": "code",
   "execution_count": 63,
   "metadata": {},
   "outputs": [
    {
     "data": {
      "text/plain": [
       "Generic           2383\n",
       "Athlete Home        58\n",
       "Spurt               21\n",
       "Emfil               11\n",
       "SportQ              10\n",
       "BODY SCULPTURE       8\n",
       "UFIT                 7\n",
       "TA SPORT             1\n",
       "Name: Brand Name, dtype: int64"
      ]
     },
     "execution_count": 63,
     "metadata": {},
     "output_type": "execute_result"
    }
   ],
   "source": [
    "df1['Brand Name'].value_counts()"
   ]
  },
  {
   "cell_type": "markdown",
   "metadata": {},
   "source": [
    "***<h3>Some analysis</h3>***"
   ]
  },
  {
   "cell_type": "markdown",
   "metadata": {},
   "source": [
    "a. Most expensive product"
   ]
  },
  {
   "cell_type": "code",
   "execution_count": 65,
   "metadata": {},
   "outputs": [],
   "source": [
    "df1.reset_index(inplace = True, drop = True)"
   ]
  },
  {
   "cell_type": "code",
   "execution_count": 76,
   "metadata": {},
   "outputs": [
    {
     "name": "stdout",
     "output_type": "stream",
     "text": [
      "Product with highest price : JOINFIT Black Balance Ball ; costing : 3795.0\n"
     ]
    }
   ],
   "source": [
    "print('Product with highest price : %s ; costing : %s'%(df1['Name'].loc[df1['Price'].idxmax()],df['Price'].max()))"
   ]
  },
  {
   "cell_type": "markdown",
   "metadata": {},
   "source": [
    "b. Cheapest Product"
   ]
  },
  {
   "cell_type": "code",
   "execution_count": 77,
   "metadata": {},
   "outputs": [
    {
     "name": "stdout",
     "output_type": "stream",
     "text": [
      "Product with lowest price : Generic Anti-Burst Yoga Swiss Ball 25centimeter ; costing : 59.9\n"
     ]
    }
   ],
   "source": [
    "print('Product with lowest price : %s ; costing : %s'%(df1['Name'].loc[df1['Price'].idxmin()],df['Price'].min()))"
   ]
  },
  {
   "cell_type": "markdown",
   "metadata": {},
   "source": [
    "c. Number of Products from Each Brand "
   ]
  },
  {
   "cell_type": "code",
   "execution_count": 80,
   "metadata": {},
   "outputs": [
    {
     "data": {
      "text/plain": [
       "Index(['Name', 'Average Rating', 'Rating Count', 'Currency', 'Price', 'FBN',\n",
       "       'URL', 'Seller', 'Brand Name'],\n",
       "      dtype='object')"
      ]
     },
     "execution_count": 80,
     "metadata": {},
     "output_type": "execute_result"
    }
   ],
   "source": [
    "df1.columns"
   ]
  },
  {
   "cell_type": "code",
   "execution_count": 79,
   "metadata": {},
   "outputs": [
    {
     "data": {
      "text/plain": [
       "Generic           2383\n",
       "Athlete Home        58\n",
       "Spurt               21\n",
       "Emfil               11\n",
       "SportQ              10\n",
       "BODY SCULPTURE       8\n",
       "UFIT                 7\n",
       "TA SPORT             1\n",
       "Name: Brand Name, dtype: int64"
      ]
     },
     "execution_count": 79,
     "metadata": {},
     "output_type": "execute_result"
    }
   ],
   "source": [
    "df1['Brand Name'].value_counts()"
   ]
  },
  {
   "cell_type": "markdown",
   "metadata": {},
   "source": [
    "Visualized"
   ]
  },
  {
   "cell_type": "code",
   "execution_count": 83,
   "metadata": {},
   "outputs": [
    {
     "data": {
      "image/png": "[encoded data removed]",
      "text/plain": [
       "<Figure size 504x504 with 1 Axes>"
      ]
     },
     "metadata": {
      "needs_background": "light"
     },
     "output_type": "display_data"
    }
   ],
   "source": [
    "plt.figure(figsize=(7,7))\n",
    "ax = sns.countplot(x=\"Brand Name\",data=df1)\n",
    "for p in ax.patches:\n",
    "    ax.annotate('{:.1f}'.format(p.get_height()), (p.get_x()+0.1, p.get_height()+50))"
   ]
  },
  {
   "cell_type": "markdown",
   "metadata": {},
   "source": [
    "d. Number of Products by Each Seller"
   ]
  },
  {
   "cell_type": "code",
   "execution_count": 98,
   "metadata": {},
   "outputs": [
    {
     "data": {
      "text/html": [
       "<div>\n",
       "<style scoped>\n",
       "    .dataframe tbody tr th:only-of-type {\n",
       "        vertical-align: middle;\n",
       "    }\n",
       "\n",
       "    .dataframe tbody tr th {\n",
       "        vertical-align: top;\n",
       "    }\n",
       "\n",
       "    .dataframe thead th {\n",
       "        text-align: right;\n",
       "    }\n",
       "</style>\n",
       "<table border=\"1\" class=\"dataframe\">\n",
       "  <thead>\n",
       "    <tr style=\"text-align: right;\">\n",
       "      <th></th>\n",
       "      <th>Seller</th>\n",
       "      <th>Values</th>\n",
       "    </tr>\n",
       "  </thead>\n",
       "  <tbody>\n",
       "    <tr>\n",
       "      <th>0</th>\n",
       "      <td>Souqegypt</td>\n",
       "      <td>1667</td>\n",
       "    </tr>\n",
       "    <tr>\n",
       "      <th>1</th>\n",
       "      <td>Kanteen.store</td>\n",
       "      <td>479</td>\n",
       "    </tr>\n",
       "    <tr>\n",
       "      <th>2</th>\n",
       "      <td>Alfayez sports</td>\n",
       "      <td>75</td>\n",
       "    </tr>\n",
       "    <tr>\n",
       "      <th>3</th>\n",
       "      <td>Athlete Home</td>\n",
       "      <td>61</td>\n",
       "    </tr>\n",
       "    <tr>\n",
       "      <th>4</th>\n",
       "      <td>Happy shopping</td>\n",
       "      <td>33</td>\n",
       "    </tr>\n",
       "    <tr>\n",
       "      <th>5</th>\n",
       "      <td>TBE</td>\n",
       "      <td>23</td>\n",
       "    </tr>\n",
       "    <tr>\n",
       "      <th>6</th>\n",
       "      <td>noon</td>\n",
       "      <td>20</td>\n",
       "    </tr>\n",
       "    <tr>\n",
       "      <th>7</th>\n",
       "      <td>Vision Technology</td>\n",
       "      <td>19</td>\n",
       "    </tr>\n",
       "    <tr>\n",
       "      <th>8</th>\n",
       "      <td>Bekstore</td>\n",
       "      <td>17</td>\n",
       "    </tr>\n",
       "    <tr>\n",
       "      <th>9</th>\n",
       "      <td>RED MOON</td>\n",
       "      <td>16</td>\n",
       "    </tr>\n",
       "    <tr>\n",
       "      <th>10</th>\n",
       "      <td>SOFT CARE</td>\n",
       "      <td>12</td>\n",
       "    </tr>\n",
       "    <tr>\n",
       "      <th>11</th>\n",
       "      <td>AL Hayat</td>\n",
       "      <td>11</td>\n",
       "    </tr>\n",
       "    <tr>\n",
       "      <th>12</th>\n",
       "      <td>Brenda Box</td>\n",
       "      <td>9</td>\n",
       "    </tr>\n",
       "    <tr>\n",
       "      <th>13</th>\n",
       "      <td>Al Abd Sports</td>\n",
       "      <td>6</td>\n",
       "    </tr>\n",
       "    <tr>\n",
       "      <th>14</th>\n",
       "      <td>Alpha</td>\n",
       "      <td>6</td>\n",
       "    </tr>\n",
       "    <tr>\n",
       "      <th>15</th>\n",
       "      <td>Entercise</td>\n",
       "      <td>5</td>\n",
       "    </tr>\n",
       "    <tr>\n",
       "      <th>16</th>\n",
       "      <td>Md.gymwear</td>\n",
       "      <td>5</td>\n",
       "    </tr>\n",
       "    <tr>\n",
       "      <th>17</th>\n",
       "      <td>Sports Mall</td>\n",
       "      <td>5</td>\n",
       "    </tr>\n",
       "    <tr>\n",
       "      <th>18</th>\n",
       "      <td>Infinity</td>\n",
       "      <td>3</td>\n",
       "    </tr>\n",
       "    <tr>\n",
       "      <th>19</th>\n",
       "      <td>Four Mobile</td>\n",
       "      <td>3</td>\n",
       "    </tr>\n",
       "    <tr>\n",
       "      <th>20</th>\n",
       "      <td>El3alamia</td>\n",
       "      <td>3</td>\n",
       "    </tr>\n",
       "    <tr>\n",
       "      <th>21</th>\n",
       "      <td>M.store</td>\n",
       "      <td>3</td>\n",
       "    </tr>\n",
       "    <tr>\n",
       "      <th>22</th>\n",
       "      <td>Brand House</td>\n",
       "      <td>2</td>\n",
       "    </tr>\n",
       "    <tr>\n",
       "      <th>23</th>\n",
       "      <td>Rawagstore</td>\n",
       "      <td>2</td>\n",
       "    </tr>\n",
       "    <tr>\n",
       "      <th>24</th>\n",
       "      <td>El asdekaa</td>\n",
       "      <td>2</td>\n",
       "    </tr>\n",
       "    <tr>\n",
       "      <th>25</th>\n",
       "      <td>ElAraby</td>\n",
       "      <td>1</td>\n",
       "    </tr>\n",
       "    <tr>\n",
       "      <th>26</th>\n",
       "      <td>Prime</td>\n",
       "      <td>1</td>\n",
       "    </tr>\n",
       "    <tr>\n",
       "      <th>27</th>\n",
       "      <td>vogue</td>\n",
       "      <td>1</td>\n",
       "    </tr>\n",
       "    <tr>\n",
       "      <th>28</th>\n",
       "      <td>Rest Store</td>\n",
       "      <td>1</td>\n",
       "    </tr>\n",
       "    <tr>\n",
       "      <th>29</th>\n",
       "      <td>Spectrum Spike</td>\n",
       "      <td>1</td>\n",
       "    </tr>\n",
       "    <tr>\n",
       "      <th>30</th>\n",
       "      <td>Cactus Fitness</td>\n",
       "      <td>1</td>\n",
       "    </tr>\n",
       "    <tr>\n",
       "      <th>31</th>\n",
       "      <td>Rustomart</td>\n",
       "      <td>1</td>\n",
       "    </tr>\n",
       "    <tr>\n",
       "      <th>32</th>\n",
       "      <td>Golden Goals</td>\n",
       "      <td>1</td>\n",
       "    </tr>\n",
       "    <tr>\n",
       "      <th>33</th>\n",
       "      <td>Decathlon</td>\n",
       "      <td>1</td>\n",
       "    </tr>\n",
       "    <tr>\n",
       "      <th>34</th>\n",
       "      <td>Hanso</td>\n",
       "      <td>1</td>\n",
       "    </tr>\n",
       "    <tr>\n",
       "      <th>35</th>\n",
       "      <td>Elmasria-Store</td>\n",
       "      <td>1</td>\n",
       "    </tr>\n",
       "    <tr>\n",
       "      <th>36</th>\n",
       "      <td>Fekra Store</td>\n",
       "      <td>1</td>\n",
       "    </tr>\n",
       "  </tbody>\n",
       "</table>\n",
       "</div>"
      ],
      "text/plain": [
       "               Seller  Values\n",
       "0           Souqegypt    1667\n",
       "1       Kanteen.store     479\n",
       "2      Alfayez sports      75\n",
       "3        Athlete Home      61\n",
       "4      Happy shopping      33\n",
       "5                 TBE      23\n",
       "6                noon      20\n",
       "7   Vision Technology      19\n",
       "8            Bekstore      17\n",
       "9            RED MOON      16\n",
       "10          SOFT CARE      12\n",
       "11           AL Hayat      11\n",
       "12         Brenda Box       9\n",
       "13      Al Abd Sports       6\n",
       "14              Alpha       6\n",
       "15          Entercise       5\n",
       "16         Md.gymwear       5\n",
       "17        Sports Mall       5\n",
       "18           Infinity       3\n",
       "19        Four Mobile       3\n",
       "20          El3alamia       3\n",
       "21            M.store       3\n",
       "22        Brand House       2\n",
       "23         Rawagstore       2\n",
       "24         El asdekaa       2\n",
       "25            ElAraby       1\n",
       "26              Prime       1\n",
       "27              vogue       1\n",
       "28         Rest Store       1\n",
       "29     Spectrum Spike       1\n",
       "30     Cactus Fitness       1\n",
       "31          Rustomart       1\n",
       "32       Golden Goals       1\n",
       "33          Decathlon       1\n",
       "34              Hanso       1\n",
       "35     Elmasria-Store       1\n",
       "36        Fekra Store       1"
      ]
     },
     "execution_count": 98,
     "metadata": {},
     "output_type": "execute_result"
    }
   ],
   "source": [
    "value_counts = df1['Seller'].value_counts()\n",
    "\n",
    "df_value_counts = pd.DataFrame(value_counts)\n",
    "df_value_counts = df_value_counts.reset_index()\n",
    "df_value_counts.columns = ['Seller', 'Values'] \n",
    "df_value_counts"
   ]
  },
  {
   "cell_type": "code",
   "execution_count": 105,
   "metadata": {},
   "outputs": [
    {
     "data": {
      "text/plain": [
       "([<matplotlib.patches.Wedge at 0x203b8df30d0>,\n",
       "  <matplotlib.patches.Wedge at 0x203b8df3610>,\n",
       "  <matplotlib.patches.Wedge at 0x203b8df3a90>,\n",
       "  <matplotlib.patches.Wedge at 0x203b8df3f70>,\n",
       "  <matplotlib.patches.Wedge at 0x203b8dfd490>,\n",
       "  <matplotlib.patches.Wedge at 0x203b8dfd970>,\n",
       "  <matplotlib.patches.Wedge at 0x203b8dfde80>,\n",
       "  <matplotlib.patches.Wedge at 0x203b8e05340>,\n",
       "  <matplotlib.patches.Wedge at 0x203b8e05820>,\n",
       "  <matplotlib.patches.Wedge at 0x203b8e05c70>,\n",
       "  <matplotlib.patches.Wedge at 0x203b8deafd0>,\n",
       "  <matplotlib.patches.Wedge at 0x203b8e10640>,\n",
       "  <matplotlib.patches.Wedge at 0x203b8e10b20>,\n",
       "  <matplotlib.patches.Wedge at 0x203b8e10fd0>,\n",
       "  <matplotlib.patches.Wedge at 0x203b8e1c520>,\n",
       "  <matplotlib.patches.Wedge at 0x203b8e1ca00>,\n",
       "  <matplotlib.patches.Wedge at 0x203b8e1ceb0>,\n",
       "  <matplotlib.patches.Wedge at 0x203b8e273d0>,\n",
       "  <matplotlib.patches.Wedge at 0x203b8e278b0>,\n",
       "  <matplotlib.patches.Wedge at 0x203b8e27d90>,\n",
       "  <matplotlib.patches.Wedge at 0x203b8e332b0>,\n",
       "  <matplotlib.patches.Wedge at 0x203b8e33790>,\n",
       "  <matplotlib.patches.Wedge at 0x203b8e33c70>,\n",
       "  <matplotlib.patches.Wedge at 0x203b8e41190>,\n",
       "  <matplotlib.patches.Wedge at 0x203b8e41670>,\n",
       "  <matplotlib.patches.Wedge at 0x203b8e41b50>,\n",
       "  <matplotlib.patches.Wedge at 0x203b8e41fd0>,\n",
       "  <matplotlib.patches.Wedge at 0x203b8e4d550>,\n",
       "  <matplotlib.patches.Wedge at 0x203b8e4da30>,\n",
       "  <matplotlib.patches.Wedge at 0x203b8e4df10>,\n",
       "  <matplotlib.patches.Wedge at 0x203b8e5a430>,\n",
       "  <matplotlib.patches.Wedge at 0x203b8e5a910>,\n",
       "  <matplotlib.patches.Wedge at 0x203b8e5adf0>,\n",
       "  <matplotlib.patches.Wedge at 0x203b8e68310>,\n",
       "  <matplotlib.patches.Wedge at 0x203b8e687f0>,\n",
       "  <matplotlib.patches.Wedge at 0x203b8e68cd0>,\n",
       "  <matplotlib.patches.Wedge at 0x203b8e721f0>],\n",
       " [Text(-0.5511971091768446, 0.9519357892395316, 'Souqegypt'),\n",
       "  Text(0.08909629084886758, -1.0963858130042428, 'Kanteen.store'),\n",
       "  Text(0.7716820604629189, -0.7839048396072729, 'Alfayez sports'),\n",
       "  Text(0.8938039711803432, -0.6411820810832509, 'Athlete Home'),\n",
       "  Text(0.9631635052250074, -0.5313342283371901, 'Happy shopping'),\n",
       "  Text(0.998152658321586, -0.4622675315069744, 'TBE'),\n",
       "  Text(1.0216712675284056, -0.4076614049758711, 'noon'),\n",
       "  Text(1.0404225754483978, -0.3571006363720505, 'Vision Technology'),\n",
       "  Text(1.0555130612110244, -0.30966462118384236, 'Bekstore'),\n",
       "  Text(1.0674478358526636, -0.26562213336517204, 'RED MOON'),\n",
       "  Text(1.0761345483430291, -0.22789127640729218, 'SOFT CARE'),\n",
       "  Text(1.0822731180485627, -0.1966847679649901, 'AL Hayat'),\n",
       "  Text(1.0868757353688736, -0.1694140958313991, 'Brenda Box'),\n",
       "  Text(1.0898769688481669, -0.1488898679371173, 'Al Abd Sports'),\n",
       "  Text(1.0919989748457928, -0.13243201627906212, 'Alpha'),\n",
       "  Text(1.0937258487743067, -0.1173190850753743, 'Entercise'),\n",
       "  Text(1.0951142498642803, -0.10356051247553259, 'Md.gymwear'),\n",
       "  Text(1.0963295812906317, -0.08978557337962713, 'Sports Mall'),\n",
       "  Text(1.0971771062725104, -0.07875530122779398, 'Infinity'),\n",
       "  Text(1.0977399277360964, -0.07047730878765136, 'Four Mobile'),\n",
       "  Text(1.0982402942147294, -0.06219530660062002, 'El3alamia'),\n",
       "  Text(1.0986781772404812, -0.053909765864211215, 'M.store'),\n",
       "  Text(1.0989953312690262, -0.047002785543875776, 'Brand House'),\n",
       "  Text(1.0992177917877959, -0.04147585101190666, 'Rawagstore'),\n",
       "  Text(1.099412457091215, -0.03594786770669228, 'El asdekaa'),\n",
       "  Text(1.099540212471159, -0.03180127605739236, 'ElAraby'),\n",
       "  Text(1.0996166942668992, -0.029036626690043105, 'Prime'),\n",
       "  Text(1.0996862247261179, -0.02627179376476442, 'vogue'),\n",
       "  Text(1.0997488034092715, -0.02350679475972319, 'Rest Store'),\n",
       "  Text(1.0998044299207625, -0.020741647154136178, 'Spectrum Spike'),\n",
       "  Text(1.0998531039089425, -0.017976368428159556, 'Cactus Fitness'),\n",
       "  Text(1.099894825066114, -0.015210976062778376, 'Rustomart'),\n",
       "  Text(1.0999295931285327, -0.01244548753969608, 'Golden Goals'),\n",
       "  Text(1.0999574078764085, -0.009679920341223973, 'Decathlon'),\n",
       "  Text(1.099978269133908, -0.006914291950170723, 'Hanso'),\n",
       "  Text(1.0999921767691545, -0.004148619849731827, 'Elmasria-Store'),\n",
       "  Text(1.0999991306942294, -0.0013829215233790953, 'Fekra Store')])"
      ]
     },
     "execution_count": 105,
     "metadata": {},
     "output_type": "execute_result"
    },
    {
     "data": {
      "image/png": "[encoded data removed]",
      "text/plain": [
       "<Figure size 1440x1440 with 1 Axes>"
      ]
     },
     "metadata": {},
     "output_type": "display_data"
    }
   ],
   "source": [
    "plt.figure(figsize=(20,20))\n",
    "palette_color = sns.color_palette('bright')\n",
    "plt.pie(df_value_counts['Values'], labels=df_value_counts[\"Seller\"], colors=palette_color)"
   ]
  },
  {
   "cell_type": "markdown",
   "metadata": {},
   "source": [
    "<h3>Scatter plot of price and ratings distribution</h3>"
   ]
  },
  {
   "cell_type": "markdown",
   "metadata": {},
   "source": [
    "To do this first lets remove nulls for ratings "
   ]
  },
  {
   "cell_type": "code",
   "execution_count": 69,
   "metadata": {},
   "outputs": [],
   "source": [
    "df2 = df1.dropna(axis=0, subset=['Average Rating'])"
   ]
  },
  {
   "cell_type": "code",
   "execution_count": 70,
   "metadata": {},
   "outputs": [
    {
     "data": {
      "text/html": [
       "<div>\n",
       "<style scoped>\n",
       "    .dataframe tbody tr th:only-of-type {\n",
       "        vertical-align: middle;\n",
       "    }\n",
       "\n",
       "    .dataframe tbody tr th {\n",
       "        vertical-align: top;\n",
       "    }\n",
       "\n",
       "    .dataframe thead th {\n",
       "        text-align: right;\n",
       "    }\n",
       "</style>\n",
       "<table border=\"1\" class=\"dataframe\">\n",
       "  <thead>\n",
       "    <tr style=\"text-align: right;\">\n",
       "      <th></th>\n",
       "      <th>Name</th>\n",
       "      <th>Average Rating</th>\n",
       "      <th>Rating Count</th>\n",
       "      <th>Currency</th>\n",
       "      <th>Price</th>\n",
       "      <th>FBN</th>\n",
       "      <th>URL</th>\n",
       "      <th>Seller</th>\n",
       "      <th>Brand Name</th>\n",
       "    </tr>\n",
       "  </thead>\n",
       "  <tbody>\n",
       "    <tr>\n",
       "      <th>0</th>\n",
       "      <td>BODY SCULPTURE Yoga Mat 17mm</td>\n",
       "      <td>5.0</td>\n",
       "      <td>1.0</td>\n",
       "      <td>EGP</td>\n",
       "      <td>799.0</td>\n",
       "      <td>Express</td>\n",
       "      <td>https://www.noon.com/egypt-en/yoga-mat-17mm/N5...</td>\n",
       "      <td>noon</td>\n",
       "      <td>BODY SCULPTURE</td>\n",
       "    </tr>\n",
       "    <tr>\n",
       "      <th>1</th>\n",
       "      <td>Athlete Home Exercise Mat</td>\n",
       "      <td>4.0</td>\n",
       "      <td>1.0</td>\n",
       "      <td>EGP</td>\n",
       "      <td>280.0</td>\n",
       "      <td>Express</td>\n",
       "      <td>https://www.noon.com/egypt-en/exercise-mat/ZEB...</td>\n",
       "      <td>Athlete Home</td>\n",
       "      <td>Athlete Home</td>\n",
       "    </tr>\n",
       "    <tr>\n",
       "      <th>2</th>\n",
       "      <td>Spurt 18D-141 Yoga Roller Pink 30cm</td>\n",
       "      <td>5.0</td>\n",
       "      <td>1.0</td>\n",
       "      <td>EGP</td>\n",
       "      <td>183.0</td>\n",
       "      <td>Express</td>\n",
       "      <td>https://www.noon.com/egypt-en/18d-141-yoga-rol...</td>\n",
       "      <td>noon</td>\n",
       "      <td>Spurt</td>\n",
       "    </tr>\n",
       "    <tr>\n",
       "      <th>5</th>\n",
       "      <td>Athlete Home Yoga Ball 2021 55cm</td>\n",
       "      <td>5.0</td>\n",
       "      <td>1.0</td>\n",
       "      <td>EGP</td>\n",
       "      <td>149.0</td>\n",
       "      <td>Express</td>\n",
       "      <td>https://www.noon.com/egypt-en/yoga-ball-2021-5...</td>\n",
       "      <td>Athlete Home</td>\n",
       "      <td>Athlete Home</td>\n",
       "    </tr>\n",
       "    <tr>\n",
       "      <th>7</th>\n",
       "      <td>UFIT Yoga Mat With Carrying Strap &amp; Bag- 10 Mm...</td>\n",
       "      <td>4.7</td>\n",
       "      <td>3.0</td>\n",
       "      <td>EGP</td>\n",
       "      <td>319.0</td>\n",
       "      <td>Market</td>\n",
       "      <td>https://www.noon.com/egypt-en/yoga-mat-with-ca...</td>\n",
       "      <td>Kanteen.store</td>\n",
       "      <td>UFIT</td>\n",
       "    </tr>\n",
       "    <tr>\n",
       "      <th>...</th>\n",
       "      <td>...</td>\n",
       "      <td>...</td>\n",
       "      <td>...</td>\n",
       "      <td>...</td>\n",
       "      <td>...</td>\n",
       "      <td>...</td>\n",
       "      <td>...</td>\n",
       "      <td>...</td>\n",
       "      <td>...</td>\n",
       "    </tr>\n",
       "    <tr>\n",
       "      <th>1580</th>\n",
       "      <td>Generic Exercise Swiss Ball - 65cm 65centimeter</td>\n",
       "      <td>4.9</td>\n",
       "      <td>8.0</td>\n",
       "      <td>EGP</td>\n",
       "      <td>375.0</td>\n",
       "      <td>Market</td>\n",
       "      <td>https://www.noon.com/egypt-en/exercise-swiss-b...</td>\n",
       "      <td>Souqegypt</td>\n",
       "      <td>Generic</td>\n",
       "    </tr>\n",
       "    <tr>\n",
       "      <th>1589</th>\n",
       "      <td>Generic Exercise Swiss Ball - 65cm 65centimeter</td>\n",
       "      <td>5.0</td>\n",
       "      <td>1.0</td>\n",
       "      <td>EGP</td>\n",
       "      <td>375.0</td>\n",
       "      <td>Market</td>\n",
       "      <td>https://www.noon.com/egypt-en/exercise-swiss-b...</td>\n",
       "      <td>Souqegypt</td>\n",
       "      <td>Generic</td>\n",
       "    </tr>\n",
       "    <tr>\n",
       "      <th>1626</th>\n",
       "      <td>Generic Aerobics Yoga Ball - 90 cm 90centimeter</td>\n",
       "      <td>5.0</td>\n",
       "      <td>1.0</td>\n",
       "      <td>EGP</td>\n",
       "      <td>300.0</td>\n",
       "      <td>Market</td>\n",
       "      <td>https://www.noon.com/egypt-en/aerobics-yoga-ba...</td>\n",
       "      <td>Souqegypt</td>\n",
       "      <td>Generic</td>\n",
       "    </tr>\n",
       "    <tr>\n",
       "      <th>2192</th>\n",
       "      <td>Generic Exercise Swiss Ball - 65cm 65centimeter</td>\n",
       "      <td>5.0</td>\n",
       "      <td>1.0</td>\n",
       "      <td>EGP</td>\n",
       "      <td>375.0</td>\n",
       "      <td>Market</td>\n",
       "      <td>https://www.noon.com/egypt-en/exercise-swiss-b...</td>\n",
       "      <td>Souqegypt</td>\n",
       "      <td>Generic</td>\n",
       "    </tr>\n",
       "    <tr>\n",
       "      <th>2317</th>\n",
       "      <td>Generic Anti-slip Carrying Strap Yoga Mat</td>\n",
       "      <td>4.0</td>\n",
       "      <td>1.0</td>\n",
       "      <td>EGP</td>\n",
       "      <td>250.0</td>\n",
       "      <td>Market</td>\n",
       "      <td>https://www.noon.com/egypt-en/anti-slip-carryi...</td>\n",
       "      <td>Alfayez sports</td>\n",
       "      <td>Generic</td>\n",
       "    </tr>\n",
       "  </tbody>\n",
       "</table>\n",
       "<p>176 rows × 9 columns</p>\n",
       "</div>"
      ],
      "text/plain": [
       "                                                   Name  Average Rating  \\\n",
       "0                          BODY SCULPTURE Yoga Mat 17mm             5.0   \n",
       "1                             Athlete Home Exercise Mat             4.0   \n",
       "2                   Spurt 18D-141 Yoga Roller Pink 30cm             5.0   \n",
       "5                      Athlete Home Yoga Ball 2021 55cm             5.0   \n",
       "7     UFIT Yoga Mat With Carrying Strap & Bag- 10 Mm...             4.7   \n",
       "...                                                 ...             ...   \n",
       "1580    Generic Exercise Swiss Ball - 65cm 65centimeter             4.9   \n",
       "1589    Generic Exercise Swiss Ball - 65cm 65centimeter             5.0   \n",
       "1626    Generic Aerobics Yoga Ball - 90 cm 90centimeter             5.0   \n",
       "2192    Generic Exercise Swiss Ball - 65cm 65centimeter             5.0   \n",
       "2317          Generic Anti-slip Carrying Strap Yoga Mat             4.0   \n",
       "\n",
       "      Rating Count Currency  Price      FBN  \\\n",
       "0              1.0      EGP  799.0  Express   \n",
       "1              1.0      EGP  280.0  Express   \n",
       "2              1.0      EGP  183.0  Express   \n",
       "5              1.0      EGP  149.0  Express   \n",
       "7              3.0      EGP  319.0   Market   \n",
       "...            ...      ...    ...      ...   \n",
       "1580           8.0      EGP  375.0   Market   \n",
       "1589           1.0      EGP  375.0   Market   \n",
       "1626           1.0      EGP  300.0   Market   \n",
       "2192           1.0      EGP  375.0   Market   \n",
       "2317           1.0      EGP  250.0   Market   \n",
       "\n",
       "                                                    URL          Seller  \\\n",
       "0     https://www.noon.com/egypt-en/yoga-mat-17mm/N5...            noon   \n",
       "1     https://www.noon.com/egypt-en/exercise-mat/ZEB...    Athlete Home   \n",
       "2     https://www.noon.com/egypt-en/18d-141-yoga-rol...            noon   \n",
       "5     https://www.noon.com/egypt-en/yoga-ball-2021-5...    Athlete Home   \n",
       "7     https://www.noon.com/egypt-en/yoga-mat-with-ca...   Kanteen.store   \n",
       "...                                                 ...             ...   \n",
       "1580  https://www.noon.com/egypt-en/exercise-swiss-b...       Souqegypt   \n",
       "1589  https://www.noon.com/egypt-en/exercise-swiss-b...       Souqegypt   \n",
       "1626  https://www.noon.com/egypt-en/aerobics-yoga-ba...       Souqegypt   \n",
       "2192  https://www.noon.com/egypt-en/exercise-swiss-b...       Souqegypt   \n",
       "2317  https://www.noon.com/egypt-en/anti-slip-carryi...  Alfayez sports   \n",
       "\n",
       "          Brand Name  \n",
       "0     BODY SCULPTURE  \n",
       "1       Athlete Home  \n",
       "2              Spurt  \n",
       "5       Athlete Home  \n",
       "7               UFIT  \n",
       "...              ...  \n",
       "1580         Generic  \n",
       "1589         Generic  \n",
       "1626         Generic  \n",
       "2192         Generic  \n",
       "2317         Generic  \n",
       "\n",
       "[176 rows x 9 columns]"
      ]
     },
     "execution_count": 70,
     "metadata": {},
     "output_type": "execute_result"
    }
   ],
   "source": [
    "df2"
   ]
  },
  {
   "cell_type": "markdown",
   "metadata": {},
   "source": [
    "No clear correlation, but a higher number of products have good ratings"
   ]
  },
  {
   "cell_type": "code",
   "execution_count": 74,
   "metadata": {},
   "outputs": [
    {
     "data": {
      "text/plain": [
       "<AxesSubplot:xlabel='Average Rating', ylabel='Price'>"
      ]
     },
     "execution_count": 74,
     "metadata": {},
     "output_type": "execute_result"
    },
    {
     "data": {
      "image/png": "[encoded data removed]",
      "text/plain": [
       "<Figure size 504x504 with 1 Axes>"
      ]
     },
     "metadata": {
      "needs_background": "light"
     },
     "output_type": "display_data"
    }
   ],
   "source": [
    "plt.figure(figsize=(7,7))\n",
    "sns.scatterplot(x=\"Average Rating\",\n",
    "                    y=\"Price\",\n",
    "                    data=df2)"
   ]
  }
 ],
 "metadata": {
  "kernelspec": {
   "display_name": "Python 3.9.7 64-bit",
   "language": "python",
   "name": "python3"
  },
  "language_info": {
   "codemirror_mode": {
    "name": "ipython",
    "version": 3
   },
   "file_extension": ".py",
   "mimetype": "text/x-python",
   "name": "python",
   "nbconvert_exporter": "python",
   "pygments_lexer": "ipython3",
   "version": "3.9.7"
  },
  "orig_nbformat": 4,
  "vscode": {
   "interpreter": {
    "hash": "feab381526f647474cffbc9060a5506e3755a2cd8e52a3e61db77dba68a3295a"
   }
  }
 },
 "nbformat": 4,
 "nbformat_minor": 2
}
